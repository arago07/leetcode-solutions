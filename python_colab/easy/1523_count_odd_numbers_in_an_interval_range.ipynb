{
  "nbformat": 4,
  "nbformat_minor": 0,
  "metadata": {
    "colab": {
      "provenance": []
    },
    "kernelspec": {
      "name": "python3",
      "display_name": "Python 3"
    },
    "language_info": {
      "name": "python"
    }
  },
  "cells": [
    {
      "cell_type": "markdown",
      "source": [
        "https://leetcode.com/problems/count-odd-numbers-in-an-interval-range/description/"
      ],
      "metadata": {
        "id": "dyRDrOi22g_-"
      }
    },
    {
      "cell_type": "markdown",
      "source": [
        "Given two non-negative integers low and high. Return the count of odd numbers between low and high (inclusive).\n",
        "\n",
        "\n",
        "\n",
        "Example 1:\n",
        "\n",
        "Input: low = 3, high = 7\n",
        "Output: 3\n",
        "Explanation: The odd numbers between 3 and 7 are [3,5,7].\n",
        "\n",
        "\n",
        "Example 2:\n",
        "\n",
        "Input: low = 8, high = 10\n",
        "Output: 1\n",
        "Explanation: The odd numbers between 8 and 10 are [9].\n",
        "\n",
        "\n",
        "Constraints:\n",
        "\n",
        "0 <= low <= high <= 10^9"
      ],
      "metadata": {
        "id": "wvjr3Gv_2xQ0"
      }
    },
    {
      "cell_type": "code",
      "source": [
        "class Solution:\n",
        "    def countOdds(self, low: int, high: int) -> int:\n",
        "        subtraction = high - low # To avoid repeating code, define 'high - low' as 'subtraction'.\n",
        "        if low % 2 == 0: # The way of counting Odds is up to whether the 2 numbers are odd or even.\n",
        "            if subtraction % 2 == 0:\n",
        "                return subtraction // 2\n",
        "            else:\n",
        "                return subtraction // 2 + 1\n",
        "        else:\n",
        "            return subtraction // 2 + 1"
      ],
      "metadata": {
        "id": "ssxU5GZc2wPS"
      },
      "execution_count": 1,
      "outputs": []
    },
    {
      "cell_type": "markdown",
      "source": [
        "# ✅ Today I learned\n",
        "**How to get a quotient (int)**\n",
        "\n",
        "In **Python** you have to use '//' to get an **integer** result.\n",
        "\n",
        "❗If you use '/', it will return **float**.\n",
        "\n",
        "❗ In **Java**, you have to use '/' to get an **integer** result."
      ],
      "metadata": {
        "id": "Tav4qsNd34-_"
      }
    }
  ]
}