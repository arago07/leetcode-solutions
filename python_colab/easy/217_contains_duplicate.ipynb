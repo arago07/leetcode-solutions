{
  "nbformat": 4,
  "nbformat_minor": 0,
  "metadata": {
    "colab": {
      "provenance": []
    },
    "kernelspec": {
      "name": "python3",
      "display_name": "Python 3"
    },
    "language_info": {
      "name": "python"
    }
  },
  "cells": [
    {
      "cell_type": "markdown",
      "source": [
        "https://leetcode.com/problems/contains-duplicate/description/"
      ],
      "metadata": {
        "id": "NVVWAveDISon"
      }
    },
    {
      "cell_type": "markdown",
      "source": [
        "# 217. Contains Duplicate\n",
        "\n",
        "Given an integer array nums, return true if any value appears at least twice in the array, and return false if every element is distinct.\n",
        "\n",
        "\n",
        "\n",
        "Example 1:\n",
        "\n",
        "Input: nums = [1,2,3,1]\n",
        "\n",
        "Output: true\n",
        "\n",
        "Explanation:\n",
        "\n",
        "The element 1 occurs at the indices 0 and 3.\n",
        "\n",
        "---\n",
        "Constraints:\n",
        "\n",
        "1 <= nums.length <= 105\n",
        "-109 <= nums[i] <= 109"
      ],
      "metadata": {
        "id": "ukjX6k8xISrY"
      }
    },
    {
      "cell_type": "code",
      "execution_count": null,
      "metadata": {
        "id": "MXoolWpkIRUY"
      },
      "outputs": [],
      "source": [
        "class Solution:\n",
        "    def containsDuplicate(self, nums: List[int]) -> bool:\n",
        "        if len(nums) > len(set(nums)): # if some elements in list 'nums' are duplicated\n",
        "            return True\n",
        "        else:\n",
        "            return False"
      ]
    },
    {
      "cell_type": "markdown",
      "source": [
        "# ✅ Today I learned\n",
        "\n",
        "To make code **Pythonic**, you have to make code simpler.\n",
        "\n",
        "ex) I can replace if - else code to code below.\n",
        "\n",
        "return len(nums) > len(set(nums))\n",
        "\n",
        "Also do not forget that **set() does not allow duplication.**\n",
        "\n"
      ],
      "metadata": {
        "id": "dQpaQ9SQISuf"
      }
    }
  ]
}