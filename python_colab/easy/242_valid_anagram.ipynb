{
  "nbformat": 4,
  "nbformat_minor": 0,
  "metadata": {
    "colab": {
      "provenance": []
    },
    "kernelspec": {
      "name": "python3",
      "display_name": "Python 3"
    },
    "language_info": {
      "name": "python"
    }
  },
  "cells": [
    {
      "cell_type": "markdown",
      "source": [
        "https://leetcode.com/problems/valid-anagram/description/"
      ],
      "metadata": {
        "id": "hqys0KSOVyTU"
      }
    },
    {
      "cell_type": "markdown",
      "source": [
        "# 242. Valid Anagram\n",
        "\n",
        "Given two strings s and t, return true if t is an anagram of s, and false otherwise.\n",
        "\n",
        " ---\n",
        "\n",
        "Example 1:\n",
        "\n",
        "Input: s = \"anagram\", t = \"nagaram\"\n",
        "\n",
        "Output: true\n",
        "\n",
        "Example 2:\n",
        "\n",
        "Input: s = \"rat\", t = \"car\"\n",
        "\n",
        "Output: false\n",
        "\n",
        " ---\n",
        "\n",
        "Constraints:\n",
        "\n",
        "1 <= s.length, t.length <= 5 * 104\n",
        "s and t consist of lowercase English letters."
      ],
      "metadata": {
        "id": "-7mYu0-9VyQ1"
      }
    },
    {
      "cell_type": "code",
      "execution_count": null,
      "metadata": {
        "id": "zYikxOxGVwIA"
      },
      "outputs": [],
      "source": [
        "class Solution:\n",
        "    def isAnagram(self, s: str, t: str) -> bool:\n",
        "        return sorted(list(s)) == sorted(list(t))\n",
        ""
      ]
    },
    {
      "cell_type": "markdown",
      "source": [
        "# ✅ Today I learned\n",
        "\n",
        "What is **'sorted()'** ?\n",
        "\n",
        "-> It returns a new list which is sorted.\n",
        "\n",
        "❗️It does **NOT CHANGE** the **original list**\n",
        "\n",
        "What is **'.sort()'** ?\n",
        "\n",
        "-> It **SORTS** the original list (There is a **CHANGE**)"
      ],
      "metadata": {
        "id": "kJ6gGAw-VyOh"
      }
    }
  ]
}