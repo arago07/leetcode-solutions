{
  "nbformat": 4,
  "nbformat_minor": 0,
  "metadata": {
    "colab": {
      "provenance": []
    },
    "kernelspec": {
      "name": "python3",
      "display_name": "Python 3"
    },
    "language_info": {
      "name": "python"
    }
  },
  "cells": [
    {
      "cell_type": "markdown",
      "source": [
        "https://leetcode.com/problems/power-of-two/description/"
      ],
      "metadata": {
        "id": "LJcre3488SMK"
      }
    },
    {
      "cell_type": "markdown",
      "source": [
        "# 231. Power of Two\n",
        "\n",
        "Given an integer n, return true if it is a power of two. Otherwise, return false.\n",
        "\n",
        "An integer n is a power of two, if there exists an integer x such that n == 2x.\n",
        "\n",
        " ---\n",
        "\n",
        "Example 1:\n",
        "\n",
        "Input: n = 1\n",
        "Output: true\n",
        "Explanation: 20 = 1\n",
        "Example 2:\n",
        "\n",
        "Input: n = 16\n",
        "Output: true\n",
        "Explanation: 24 = 16\n",
        "Example 3:\n",
        "\n",
        "Input: n = 3\n",
        "Output: false\n",
        "\n",
        "---\n",
        "\n",
        "Constraints:\n",
        "\n",
        "-231 <= n <= 231 - 1\n"
      ],
      "metadata": {
        "id": "FlSvxs1i8SNw"
      }
    },
    {
      "cell_type": "code",
      "execution_count": null,
      "metadata": {
        "id": "uXFokjsA8Ql9"
      },
      "outputs": [],
      "source": [
        "class Solution1:\n",
        "    def isPowerOfTwo(self, n: int) -> bool:\n",
        "        if n <= 0:\n",
        "            return False\n",
        "        else:\n",
        "            while n % 2 == 0:\n",
        "                n = n // 2\n",
        "            if n != 1:\n",
        "                return False\n",
        "            else:\n",
        "                return True\n",
        "\n"
      ]
    },
    {
      "cell_type": "code",
      "source": [
        "class Solution2:\n",
        "  def isPowerOfTwo(self, n: int) -> bool:\n",
        "    return n > 0 and (n & (n - 1)) == 0"
      ],
      "metadata": {
        "id": "af2lSI7v8lTA"
      },
      "execution_count": null,
      "outputs": []
    },
    {
      "cell_type": "markdown",
      "source": [
        "# ✅ Today I learned\n",
        "\n",
        "To find out whether a number is a power of two or not, you can use a bitwise operation.\n",
        "\n",
        "ex) Solution2"
      ],
      "metadata": {
        "id": "nUUJwhwb8SeN"
      }
    }
  ]
}