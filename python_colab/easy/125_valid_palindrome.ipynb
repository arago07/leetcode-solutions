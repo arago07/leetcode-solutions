{
  "nbformat": 4,
  "nbformat_minor": 0,
  "metadata": {
    "colab": {
      "provenance": []
    },
    "kernelspec": {
      "name": "python3",
      "display_name": "Python 3"
    },
    "language_info": {
      "name": "python"
    }
  },
  "cells": [
    {
      "cell_type": "markdown",
      "source": [
        "https://leetcode.com/problems/valid-palindrome/description/"
      ],
      "metadata": {
        "id": "HnAkTEL3L1Uy"
      }
    },
    {
      "cell_type": "markdown",
      "source": [
        "# 125. Valid Palindrome\n",
        "\n",
        "A phrase is a palindrome if, after converting all uppercase letters into lowercase letters and removing all non-alphanumeric characters, it reads the same forward and backward. Alphanumeric characters include letters and numbers.\n",
        "\n",
        "Given a string s, return true if it is a palindrome, or false otherwise.\n",
        "\n",
        "\n",
        "\n",
        "Example 1:\n",
        "\n",
        "Input: s = \"A man, a plan, a canal: Panama\"\n",
        "Output: true\n",
        "Explanation: \"amanaplanacanalpanama\" is a palindrome."
      ],
      "metadata": {
        "id": "1cc2yz4rL1cE"
      }
    },
    {
      "cell_type": "code",
      "execution_count": null,
      "metadata": {
        "id": "8lW_GClRL0kC"
      },
      "outputs": [],
      "source": [
        "class Solution:\n",
        "    def isPalindrome(self, s: str) -> bool:\n",
        "        s = s.lower()\n",
        "        alphanumericList = ['0', '1', '2', '3', '4', '5', '6', '7', '8', '9',\n",
        "                            'a', 'b', 'c', 'd', 'e', 'f', 'g', 'h', 'i', 'j', 'k', 'l', 'm', 'n',\n",
        "                            'o', 'p', 'q', 'r', 's', 't', 'u', 'v', 'w', 'x', 'y', 'z'] # you can use list like this, but using set is much faster.\n",
        "        i = 0\n",
        "        alphanumeric = '' # it will contain alphanumeric letters after you remove non-alphanumeric letters.\n",
        "        tempList = []\n",
        "        while i < len(s):\n",
        "            if s[i] in alphanumericList:\n",
        "                tempList.append(s[i])\n",
        "            i += 1\n",
        "        alphanumeric = ''.join(tempList)\n",
        "\n",
        "        halfOfLength = len(alphanumeric) // 2 # use this to compare a letter from both ways - front and back\n",
        "        j = 0\n",
        "        for j in range(halfOfLength):\n",
        "            if alphanumeric[j] != alphanumeric[-j-1]:\n",
        "                return False\n",
        "        return True"
      ]
    },
    {
      "cell_type": "markdown",
      "source": [
        "# ✅ Today I learned\n",
        "\n",
        "When you try to find some values, searching it in **List** takes **MUCH MORE TIME** than searching it in set. So it is better to use **SET** when you try to find something repeatedly.\n",
        "\n",
        "-> I can improve the code I wrote above. I will try it soon."
      ],
      "metadata": {
        "id": "nK2AAvTBL1i1"
      }
    }
  ]
}