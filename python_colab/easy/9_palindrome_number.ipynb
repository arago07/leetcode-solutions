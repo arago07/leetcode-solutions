{
  "nbformat": 4,
  "nbformat_minor": 0,
  "metadata": {
    "colab": {
      "provenance": []
    },
    "kernelspec": {
      "name": "python3",
      "display_name": "Python 3"
    },
    "language_info": {
      "name": "python"
    }
  },
  "cells": [
    {
      "cell_type": "markdown",
      "source": [
        "https://leetcode.com/problems/palindrome-number/description/"
      ],
      "metadata": {
        "id": "sgnxwxduehLk"
      }
    },
    {
      "cell_type": "markdown",
      "source": [
        "# 9. Palindrome Number\n",
        "\n",
        "Given an integer x, return true if x is a palindrome, and false otherwise.\n",
        "\n",
        "---\n",
        "\n",
        "Example 1:\n",
        "\n",
        "Input: x = 121\n",
        "Output: true\n",
        "Explanation: 121 reads as 121 from left to right and from right to left.\n",
        "\n",
        "\n",
        "Example 2:\n",
        "\n",
        "Input: x = -121\n",
        "Output: false\n",
        "Explanation: From left to right, it reads -121. From right to left, it becomes 121-. Therefore it is not a palindrome.\n",
        "\n",
        "Example 3:\n",
        "\n",
        "Input: x = 10\n",
        "Output: false\n",
        "Explanation: Reads 01 from right to left. Therefore it is not a palindrome.\n",
        "\n",
        "---\n",
        "\n",
        "Constraints:\n",
        "\n",
        "-231 <= x <= 231 - 1"
      ],
      "metadata": {
        "id": "0_og6woGehSD"
      }
    },
    {
      "cell_type": "code",
      "execution_count": null,
      "metadata": {
        "id": "EQui5bnnegPL"
      },
      "outputs": [],
      "source": [
        "class Solution:\n",
        "    def isPalindrome(self, x: int) -> bool:\n",
        "        strX = str(x)\n",
        "        if x < 0:\n",
        "            return False\n",
        "        else:\n",
        "            for index in range(len(strX)//2):\n",
        "                if strX[index] != strX[-index-1]:\n",
        "                    return False\n",
        "            return True\n",
        ""
      ]
    },
    {
      "cell_type": "markdown",
      "source": [
        "# ✅ Today I learned\n",
        "\n",
        "❗️ Don't confuse **x(int)** with **len(str(x)**).\n",
        "\n",
        "-> When you need **the number of digits**, use **len(str(x))**."
      ],
      "metadata": {
        "id": "0cFJ_vmcehYl"
      }
    }
  ]
}