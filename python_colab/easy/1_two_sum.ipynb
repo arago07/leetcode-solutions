{
  "nbformat": 4,
  "nbformat_minor": 0,
  "metadata": {
    "colab": {
      "provenance": []
    },
    "kernelspec": {
      "name": "python3",
      "display_name": "Python 3"
    },
    "language_info": {
      "name": "python"
    }
  },
  "cells": [
    {
      "cell_type": "markdown",
      "source": [
        "https://leetcode.com/problems/two-sum/description/"
      ],
      "metadata": {
        "id": "Y0lRPXhvHwwX"
      }
    },
    {
      "cell_type": "markdown",
      "source": [
        "# 1. Two Sum\n",
        "\n",
        "Given an array of integers nums and an integer target, return indices of the two numbers such that they add up to target.\n",
        "\n",
        "You may assume that each input would have exactly one solution, and you may not use the same element twice.\n",
        "\n",
        "You can return the answer in any order.\n",
        "\n",
        "\n",
        "\n",
        "Example 1:\n",
        "\n",
        "Input: nums = [2,7,11,15], target = 9\n",
        "Output: [0,1]\n",
        "Explanation: Because nums[0] + nums[1] == 9, we return [0, 1].\n"
      ],
      "metadata": {
        "id": "u4VF3JXNHw3U"
      }
    },
    {
      "cell_type": "code",
      "execution_count": null,
      "metadata": {
        "id": "MRjzk5A8HsNF"
      },
      "outputs": [],
      "source": [
        "class Solution:\n",
        "    def twoSum(self, nums: List[int], target: int) -> List[int]:\n",
        "        for index, value in enumerate(nums):\n",
        "            if (target - value in nums) and (nums.index(target - value)!= index):\n",
        "              # 1. checking whether 2 elements which are answers exist in the array 'nums'\n",
        "              # 2. preventng duplication\n",
        "                return [index, nums.index(target - value)]\n",
        "\n",
        ""
      ]
    },
    {
      "cell_type": "markdown",
      "source": [
        "# ✅ Today I learned\n",
        "\n",
        "In Python,\n",
        "\n",
        "use **'and/or'**\n",
        "\n",
        "❗️In Java, use '&&/||'"
      ],
      "metadata": {
        "id": "LG8Ck9pWHxc4"
      }
    }
  ]
}