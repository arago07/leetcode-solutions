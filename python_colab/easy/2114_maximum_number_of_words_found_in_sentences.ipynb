{
  "nbformat": 4,
  "nbformat_minor": 0,
  "metadata": {
    "colab": {
      "provenance": []
    },
    "kernelspec": {
      "name": "python3",
      "display_name": "Python 3"
    },
    "language_info": {
      "name": "python"
    }
  },
  "cells": [
    {
      "cell_type": "markdown",
      "source": [
        "https://leetcode.com/problems/maximum-number-of-words-found-in-sentences/description/"
      ],
      "metadata": {
        "id": "aMVee9Nc0xMg"
      }
    },
    {
      "cell_type": "markdown",
      "source": [
        "# 2114. Maximum Number of Words Found in Sentences\n",
        "\n",
        "A sentence is a list of words that are separated by a single space with no leading or trailing spaces.\n",
        "\n",
        "You are given an array of strings sentences, where each sentences[i] represents a single sentence.\n",
        "\n",
        "Return the maximum number of words that appear in a single sentence.\n",
        "\n",
        " ----\n",
        "\n",
        "Example 1:\n",
        "\n",
        "Input: sentences = [\"alice and bob love leetcode\", \"i think so too\", \"this is great thanks very much\"]\n",
        "Output: 6\n",
        "Explanation:\n",
        "- The first sentence, \"alice and bob love leetcode\", has 5 words in total.\n",
        "- The second sentence, \"i think so too\", has 4 words in total.\n",
        "- The third sentence, \"this is great thanks very much\", has 6 words in total.\n",
        "Thus, the maximum number of words in a single sentence comes from the third sentence, which has 6 words.\n",
        "\n",
        "----\n",
        "Constraints:\n",
        "\n",
        "1 <= sentences.length <= 100\n",
        "1 <= sentences[i].length <= 100\n",
        "sentences[i] consists only of lowercase English letters and ' ' only.\n",
        "sentences[i] does not have leading or trailing spaces.\n",
        "All the words in sentences[i] are separated by a single space."
      ],
      "metadata": {
        "id": "EH6CWPek0yid"
      }
    },
    {
      "cell_type": "code",
      "execution_count": null,
      "metadata": {
        "id": "OcjhX2zD0uX_"
      },
      "outputs": [],
      "source": [
        "class Solution:\n",
        "    def mostWordsFound(self, sentences: List[str]) -> int:\n",
        "        maxNumOfWords = 0\n",
        "        for i in range(len(sentences)):\n",
        "            if len(sentences[i].split(' ')) >= maxNumOfWords:\n",
        "                maxNumOfWords = len(sentences[i].split(' '))\n",
        "        return maxNumOfWords\n",
        ""
      ]
    },
    {
      "cell_type": "markdown",
      "source": [
        "# ✅ Today I learned\n",
        "\n",
        "To make code simpler and easier to read, you can iterate over the list **ITSELF** instead of using range().\n",
        "\n",
        "-> The code above can be improved. I will try it soon."
      ],
      "metadata": {
        "id": "sGwrFcT_0xSf"
      }
    }
  ]
}