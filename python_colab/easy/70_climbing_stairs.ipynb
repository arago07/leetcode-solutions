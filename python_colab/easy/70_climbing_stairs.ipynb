{
  "nbformat": 4,
  "nbformat_minor": 0,
  "metadata": {
    "colab": {
      "provenance": []
    },
    "kernelspec": {
      "name": "python3",
      "display_name": "Python 3"
    },
    "language_info": {
      "name": "python"
    }
  },
  "cells": [
    {
      "cell_type": "markdown",
      "source": [
        "https://leetcode.com/problems/climbing-stairs/description/"
      ],
      "metadata": {
        "id": "ATNMCqBgzthh"
      }
    },
    {
      "cell_type": "markdown",
      "source": [
        "# 70. Climbing Stairs\n",
        "\n",
        "You are climbing a staircase. It takes n steps to reach the top.\n",
        "\n",
        "Each time you can either climb 1 or 2 steps. In how many distinct ways can you climb to the top?\n",
        "\n",
        " ---\n",
        "\n",
        "Example 1:\n",
        "\n",
        "Input: n = 2\n",
        "Output: 2\n",
        "Explanation: There are two ways to climb to the top.\n",
        "1. 1 step + 1 step\n",
        "2. 2 steps\n",
        "Example 2:\n",
        "\n",
        "Input: n = 3\n",
        "Output: 3\n",
        "Explanation: There are three ways to climb to the top.\n",
        "1. 1 step + 1 step + 1 step\n",
        "2. 1 step + 2 steps\n",
        "3. 2 steps + 1 step\n",
        "\n",
        "---\n",
        "\n",
        "Constraints:\n",
        "\n",
        "1 <= n <= 45"
      ],
      "metadata": {
        "id": "-PQpwCB-ztj3"
      }
    },
    {
      "cell_type": "code",
      "execution_count": null,
      "metadata": {
        "id": "aIr_HrFWztCY"
      },
      "outputs": [],
      "source": [
        "import math\n",
        "class Solution:\n",
        "    def climbStairs(self, n: int) -> int:\n",
        "        distinct_ways = 0\n",
        "\n",
        "        for k in range(n//2 + 1): # k = the number of '2'\n",
        "            step1 = n - 2*k\n",
        "            step2 = k\n",
        "            total_steps = n-k\n",
        "            distinct_ways += comb(total_steps, k)\n",
        "\n",
        "        return distinct_ways\n",
        "\n",
        "    def comb(n, k):\n",
        "        return math.factorial(n) // (math.factorial(k) * math.factorial(n-k))\n",
        "        # because the orders among 1 and the orders among 2 don't matter\n",
        ""
      ]
    },
    {
      "cell_type": "markdown",
      "source": [
        "# ✅ Today I learned\n",
        "\n",
        "**To use factorial**, you have to **import math.**\n",
        "\n",
        "-> math.factorial(n) ✅\n",
        "\n",
        "-> n! ❌\n"
      ],
      "metadata": {
        "id": "M8__ZRaVztmO"
      }
    }
  ]
}