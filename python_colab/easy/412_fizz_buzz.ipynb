{
  "nbformat": 4,
  "nbformat_minor": 0,
  "metadata": {
    "colab": {
      "provenance": []
    },
    "kernelspec": {
      "name": "python3",
      "display_name": "Python 3"
    },
    "language_info": {
      "name": "python"
    }
  },
  "cells": [
    {
      "cell_type": "markdown",
      "source": [
        "https://leetcode.com/problems/fizz-buzz/"
      ],
      "metadata": {
        "id": "6LPaTQmN7OU_"
      }
    },
    {
      "cell_type": "markdown",
      "source": [
        "#412. Fizz Buzz\n",
        "\n",
        "Given an integer n, return a string array answer (1-indexed) where:\n",
        "\n",
        "answer[i] == \"FizzBuzz\" if i is divisible by 3 and 5.\n",
        "answer[i] == \"Fizz\" if i is divisible by 3.\n",
        "answer[i] == \"Buzz\" if i is divisible by 5.\n",
        "answer[i] == i (as a string) if none of the above conditions are true.\n",
        "\n",
        "\n",
        "Example 1:\n",
        "\n",
        "Input: n = 3\n",
        "Output: [\"1\",\"2\",\"Fizz\"]\n"
      ],
      "metadata": {
        "id": "cv5RqsW87OkB"
      }
    },
    {
      "cell_type": "code",
      "execution_count": null,
      "metadata": {
        "id": "l6dfAmBG7LS4"
      },
      "outputs": [],
      "source": [
        "class Solution:\n",
        "    def fizzBuzz(self, n: int) -> List[str]:\n",
        "        answer = [] # making a string array 'answer'\n",
        "        for num in range(n):\n",
        "            num += 1 # to make 'num' start from 1\n",
        "            if (num % 3 == 0) & (num % 5 == 0):\n",
        "                answer.append(\"FizzBuzz\")\n",
        "            elif num % 3 == 0:\n",
        "                answer.append(\"Fizz\")\n",
        "            elif num % 5 == 0:\n",
        "                answer.append(\"Buzz\")\n",
        "            else:\n",
        "                answer.append(str(num)) # change integer 'num' to string\n",
        "        return answer\n",
        ""
      ]
    },
    {
      "cell_type": "markdown",
      "source": [
        "# ✅ Today I learned\n",
        "\n",
        "To change something **to string type**,\n",
        "\n",
        "you should use **str()**\n",
        "\n",
        "-> ❌ string()❌"
      ],
      "metadata": {
        "id": "rfNL_fwf7cCl"
      }
    }
  ]
}