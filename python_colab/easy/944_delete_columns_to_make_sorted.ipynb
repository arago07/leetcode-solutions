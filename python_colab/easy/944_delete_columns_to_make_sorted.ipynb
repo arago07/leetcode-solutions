{
  "nbformat": 4,
  "nbformat_minor": 0,
  "metadata": {
    "colab": {
      "provenance": []
    },
    "kernelspec": {
      "name": "python3",
      "display_name": "Python 3"
    },
    "language_info": {
      "name": "python"
    }
  },
  "cells": [
    {
      "cell_type": "markdown",
      "source": [
        "https://leetcode.com/problems/delete-columns-to-make-sorted/description/"
      ],
      "metadata": {
        "id": "kkQH5WpVfrA_"
      }
    },
    {
      "cell_type": "markdown",
      "source": [
        "**944. Delete Columns to Make Sorted**\n",
        "\n",
        "You are given an array of n strings strs, all of the same length.\n",
        "\n",
        "The strings can be arranged such that there is one on each line, making a grid.\n",
        "\n",
        "For example, strs = [\"abc\", \"bce\", \"cae\"] can be arranged as follows:\n",
        "abc\n",
        "bce\n",
        "cae\n",
        "You want to delete the columns that are not sorted lexicographically. In the above example (0-indexed), columns 0 ('a', 'b', 'c') and 2 ('c', 'e', 'e') are sorted, while column 1 ('b', 'c', 'a') is not, so you would delete column 1.\n",
        "\n",
        "Return the number of columns that you will delete.\n",
        "\n",
        " ---\n",
        "\n",
        "Example 1:\n",
        "\n",
        "Input: strs = [\"cba\",\"daf\",\"ghi\"]\n",
        "Output: 1\n",
        "Explanation: The grid looks as follows:\n",
        "  cba\n",
        "  daf\n",
        "  ghi\n",
        "Columns 0 and 2 are sorted, but column 1 is not, so you only need to delete 1 column."
      ],
      "metadata": {
        "id": "sLtCU-kafrFE"
      }
    },
    {
      "cell_type": "code",
      "execution_count": null,
      "metadata": {
        "id": "VDcy1u8SfqiH"
      },
      "outputs": [],
      "source": [
        "class Solution:\n",
        "    def minDeletionSize(self, strs: List[str]) -> int:\n",
        "        count = 0 # initialize to the number of columns that I will delete\n",
        "        for len_str in range(len(strs[0])):\n",
        "            # repeat this as much as the length of the string's length\n",
        "            for index in range(1, len(strs)):\n",
        "                if strs[index][len_str] <  strs[index -1][len_str]:\n",
        "                    # if the alphabets are not sorted\n",
        "                    count += 1\n",
        "                    break # escape from the 2nd 'for'\n",
        "        return count"
      ]
    },
    {
      "cell_type": "markdown",
      "source": [
        "# ✅ Today I learned\n",
        "\n",
        "1. You can **compare alphabetical order** using '<' or '>'.\n",
        "\n",
        "  - Ex) a < b is True\n",
        "\n",
        "2. **In Python**, **snake_case** is officially preferred to camelCase."
      ],
      "metadata": {
        "id": "eq3hAhmSfrKQ"
      }
    }
  ]
}