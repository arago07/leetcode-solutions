{
  "nbformat": 4,
  "nbformat_minor": 0,
  "metadata": {
    "colab": {
      "provenance": []
    },
    "kernelspec": {
      "name": "python3",
      "display_name": "Python 3"
    },
    "language_info": {
      "name": "python"
    }
  },
  "cells": [
    {
      "cell_type": "markdown",
      "source": [
        "https://leetcode.com/problems/kids-with-the-greatest-number-of-candies/description/"
      ],
      "metadata": {
        "id": "IIL4N2MlXmHV"
      }
    },
    {
      "cell_type": "markdown",
      "source": [
        "There are n kids with candies. You are given an integer array candies, where each candies[i] represents the number of candies the ith kid has, and an integer extraCandies, denoting the number of extra candies that you have.\n",
        "\n",
        "Return a boolean array result of length n, where result[i] is true if, after giving the ith kid all the extraCandies, they will have the greatest number of candies among all the kids, or false otherwise.\n",
        "\n",
        "Note that multiple kids can have the greatest number of candies.\n",
        "\n",
        ""
      ],
      "metadata": {
        "id": "I6dWjlTLXyp7"
      }
    },
    {
      "cell_type": "code",
      "execution_count": null,
      "metadata": {
        "id": "CBO59A8BXh9_"
      },
      "outputs": [],
      "source": [
        "class Solution:\n",
        "    def kidsWithCandies(self, candies: List[int], extraCandies: int) -> List[bool]:\n",
        "        biggestNum = max(candies)\n",
        "        result = []\n",
        "        for i, kid in enumerate (candies):\n",
        "            if kid + extraCandies >= biggestNum:\n",
        "                result.append(True)\n",
        "            else:\n",
        "                result.append(False)\n",
        "        return result"
      ]
    },
    {
      "cell_type": "markdown",
      "source": [
        "# ✅ Today I learned\n",
        "\n",
        "In Python, boolean should be written like below.\n",
        "\n",
        "true ❌, True ✅\n",
        "\n",
        "false ❌ , False ✅"
      ],
      "metadata": {
        "id": "dvkS7ykgX8ki"
      }
    }
  ]
}